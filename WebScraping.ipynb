{
 "cells": [
  {
   "cell_type": "code",
   "execution_count": null,
   "id": "8a0fd785",
   "metadata": {},
   "outputs": [],
   "source": [
    "from bs4 import BeautifulSoup\n",
    "import requests\n",
    "import pandas as pd"
   ]
  },
  {
   "cell_type": "code",
   "execution_count": null,
   "id": "8be0c4a9",
   "metadata": {},
   "outputs": [],
   "source": [
    "url = \"http://www.popvortex.com/music/charts/top-100-songs.php\""
   ]
  },
  {
   "cell_type": "code",
   "execution_count": null,
   "id": "68012c15",
   "metadata": {},
   "outputs": [],
   "source": [
    "response = requests.get(url)\n",
    "response.status_code"
   ]
  },
  {
   "cell_type": "code",
   "execution_count": null,
   "id": "a47af774",
   "metadata": {},
   "outputs": [],
   "source": [
    "response.content"
   ]
  },
  {
   "cell_type": "code",
   "execution_count": null,
   "id": "9d4dc10d",
   "metadata": {},
   "outputs": [],
   "source": [
    "soup = BeautifulSoup(response.content, \"html.parser\")"
   ]
  },
  {
   "cell_type": "code",
   "execution_count": null,
   "id": "5904bee7",
   "metadata": {},
   "outputs": [],
   "source": [
    "soup"
   ]
  },
  {
   "cell_type": "code",
   "execution_count": null,
   "id": "f138d13e",
   "metadata": {},
   "outputs": [],
   "source": [
    "#chart-position-1 > div.chart-content.col-xs-12.col-sm-8 > p"
   ]
  },
  {
   "cell_type": "code",
   "execution_count": null,
   "id": "42c27356",
   "metadata": {},
   "outputs": [],
   "source": [
    "soup.select('#chart-position-1')"
   ]
  },
  {
   "cell_type": "code",
   "execution_count": null,
   "id": "f1f91503",
   "metadata": {},
   "outputs": [],
   "source": [
    "soup.cite['class']"
   ]
  },
  {
   "cell_type": "code",
   "execution_count": null,
   "id": "1c90163f",
   "metadata": {},
   "outputs": [],
   "source": [
    "soup.select('.title')"
   ]
  },
  {
   "cell_type": "code",
   "execution_count": null,
   "id": "f20ed30f",
   "metadata": {},
   "outputs": [],
   "source": [
    "for item in soup.select('.title'):\n",
    "    print(item.get_text())"
   ]
  },
  {
   "cell_type": "code",
   "execution_count": null,
   "id": "5809176d",
   "metadata": {},
   "outputs": [],
   "source": [
    "for item in soup.select('.artist'):\n",
    "    print(item.get_text())"
   ]
  },
  {
   "cell_type": "markdown",
   "id": "341166bb",
   "metadata": {},
   "source": [
    "Creating DataFrame"
   ]
  },
  {
   "cell_type": "code",
   "execution_count": null,
   "id": "189a8ce4",
   "metadata": {},
   "outputs": [],
   "source": [
    "title = []\n",
    "artist = []\n",
    "\n",
    "\n",
    "    \n",
    "tlist = soup.select('.title')\n",
    "alist = soup.select('.artist')\n",
    "\n",
    "\n",
    "num_iter = len(soup.select(\".title\"))\n",
    "\n",
    "for i in range(num_iter):\n",
    "    title.append(tlist[i].get_text())\n",
    "    artist.append(alist[i].get_text())    \n",
    "    \n",
    "\n",
    "    \n",
    "    \n",
    "\n",
    "print(title)\n",
    "print(artist)\n"
   ]
  },
  {
   "cell_type": "code",
   "execution_count": null,
   "id": "7867c22f",
   "metadata": {},
   "outputs": [],
   "source": [
    "title"
   ]
  },
  {
   "cell_type": "code",
   "execution_count": null,
   "id": "ad615d5e",
   "metadata": {},
   "outputs": [],
   "source": [
    "top_100 = pd.DataFrame({'song':title, 'artist':artist})"
   ]
  },
  {
   "cell_type": "code",
   "execution_count": null,
   "id": "607b9385",
   "metadata": {},
   "outputs": [],
   "source": [
    "top_100"
   ]
  },
  {
   "cell_type": "markdown",
   "id": "90861b3e",
   "metadata": {},
   "source": [
    "Creating Function for the song recommender"
   ]
  },
  {
   "cell_type": "code",
   "execution_count": null,
   "id": "1d264850",
   "metadata": {},
   "outputs": [],
   "source": [
    "import random"
   ]
  },
  {
   "cell_type": "code",
   "execution_count": null,
   "id": "fb78e146",
   "metadata": {},
   "outputs": [],
   "source": [
    "top_100['song'][0]"
   ]
  },
  {
   "cell_type": "code",
   "execution_count": null,
   "id": "6554a168",
   "metadata": {},
   "outputs": [],
   "source": [
    "def recommender():    \n",
    "    random_song = random.choice(top_100['song'])\n",
    "    user_input = input(\"What is your favourite song?:\")\n",
    "    if user_input in top_100['song'].values:\n",
    "        print(\"We recommend the following song: \", random_song)\n",
    "    else:\n",
    "        print(\"We are sorry but we have no songs to recommend\")\n",
    "        again = input(\"Do you want to enter another song? y/n \")\n",
    "        if again == 'y':\n",
    "            recommender()\n",
    "        else:\n",
    "            print('Thank you for using our song recommender!')\n",
    "                  \n",
    "               "
   ]
  },
  {
   "cell_type": "code",
   "execution_count": null,
   "id": "6b359f40",
   "metadata": {},
   "outputs": [],
   "source": [
    "recommender()"
   ]
  },
  {
   "cell_type": "code",
   "execution_count": null,
   "id": "cc612d1b",
   "metadata": {},
   "outputs": [],
   "source": []
  },
  {
   "cell_type": "markdown",
   "id": "885fb6d0",
   "metadata": {},
   "source": [
    "Will add more songs to my recommender"
   ]
  },
  {
   "cell_type": "code",
   "execution_count": null,
   "id": "6b625192",
   "metadata": {},
   "outputs": [],
   "source": []
  },
  {
   "cell_type": "code",
   "execution_count": null,
   "id": "deb219dc",
   "metadata": {},
   "outputs": [],
   "source": []
  },
  {
   "cell_type": "code",
   "execution_count": null,
   "id": "f346edbc",
   "metadata": {},
   "outputs": [],
   "source": []
  },
  {
   "cell_type": "code",
   "execution_count": null,
   "id": "282afa4d",
   "metadata": {},
   "outputs": [],
   "source": []
  },
  {
   "cell_type": "code",
   "execution_count": null,
   "id": "8a922015",
   "metadata": {},
   "outputs": [],
   "source": []
  },
  {
   "cell_type": "code",
   "execution_count": null,
   "id": "c03b4e30",
   "metadata": {},
   "outputs": [],
   "source": []
  },
  {
   "cell_type": "code",
   "execution_count": null,
   "id": "b46e3ba4",
   "metadata": {},
   "outputs": [],
   "source": []
  },
  {
   "cell_type": "code",
   "execution_count": null,
   "id": "dd3e17da",
   "metadata": {},
   "outputs": [],
   "source": []
  },
  {
   "cell_type": "code",
   "execution_count": null,
   "id": "f878a371",
   "metadata": {},
   "outputs": [],
   "source": []
  },
  {
   "cell_type": "code",
   "execution_count": null,
   "id": "abfac0a6",
   "metadata": {},
   "outputs": [],
   "source": []
  },
  {
   "cell_type": "code",
   "execution_count": null,
   "id": "23a196dc",
   "metadata": {},
   "outputs": [],
   "source": []
  },
  {
   "cell_type": "code",
   "execution_count": null,
   "id": "09698268",
   "metadata": {},
   "outputs": [],
   "source": []
  },
  {
   "cell_type": "code",
   "execution_count": null,
   "id": "138e1c6d",
   "metadata": {},
   "outputs": [],
   "source": []
  }
 ],
 "metadata": {
  "kernelspec": {
   "display_name": "Python 3 (ipykernel)",
   "language": "python",
   "name": "python3"
  },
  "language_info": {
   "codemirror_mode": {
    "name": "ipython",
    "version": 3
   },
   "file_extension": ".py",
   "mimetype": "text/x-python",
   "name": "python",
   "nbconvert_exporter": "python",
   "pygments_lexer": "ipython3",
   "version": "3.9.12"
  },
  "toc": {
   "base_numbering": 1,
   "nav_menu": {},
   "number_sections": true,
   "sideBar": true,
   "skip_h1_title": false,
   "title_cell": "Table of Contents",
   "title_sidebar": "Contents",
   "toc_cell": false,
   "toc_position": {},
   "toc_section_display": true,
   "toc_window_display": false
  }
 },
 "nbformat": 4,
 "nbformat_minor": 5
}
