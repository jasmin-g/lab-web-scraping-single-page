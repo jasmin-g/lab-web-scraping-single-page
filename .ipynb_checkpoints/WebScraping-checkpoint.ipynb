{
 "cells": [
  {
   "cell_type": "code",
   "execution_count": 247,
   "id": "1723e3e9",
   "metadata": {},
   "outputs": [],
   "source": [
    "from bs4 import BeautifulSoup\n",
    "import requests\n",
    "import pandas as pd"
   ]
  },
  {
   "cell_type": "code",
   "execution_count": 248,
   "id": "5c7bcfc8",
   "metadata": {},
   "outputs": [],
   "source": [
    "url = \"http://www.popvortex.com/music/charts/top-100-songs.php\""
   ]
  },
  {
   "cell_type": "code",
   "execution_count": 249,
   "id": "39c8010f",
   "metadata": {},
   "outputs": [
    {
     "data": {
      "text/plain": [
       "200"
      ]
     },
     "execution_count": 249,
     "metadata": {},
     "output_type": "execute_result"
    }
   ],
   "source": [
    "response = requests.get(url)\n",
    "response.status_code"
   ]
  },
  {
   "cell_type": "code",
   "execution_count": 313,
   "id": "1d73a1de",
   "metadata": {},
   "outputs": [],
   "source": [
    "#response.content"
   ]
  },
  {
   "cell_type": "code",
   "execution_count": 251,
   "id": "c55f53b0",
   "metadata": {},
   "outputs": [],
   "source": [
    "soup = BeautifulSoup(response.content, \"html.parser\")"
   ]
  },
  {
   "cell_type": "code",
   "execution_count": 314,
   "id": "854262d7",
   "metadata": {},
   "outputs": [],
   "source": [
    "#soup"
   ]
  },
  {
   "cell_type": "code",
   "execution_count": 253,
   "id": "ac79c7ba",
   "metadata": {},
   "outputs": [],
   "source": [
    "#chart-position-1 > div.chart-content.col-xs-12.col-sm-8 > p"
   ]
  },
  {
   "cell_type": "code",
   "execution_count": 315,
   "id": "ed15cd2a",
   "metadata": {},
   "outputs": [],
   "source": [
    "#soup.select('#chart-position-1')"
   ]
  },
  {
   "cell_type": "code",
   "execution_count": 255,
   "id": "86c25631",
   "metadata": {},
   "outputs": [
    {
     "data": {
      "text/plain": [
       "['title']"
      ]
     },
     "execution_count": 255,
     "metadata": {},
     "output_type": "execute_result"
    }
   ],
   "source": [
    "soup.cite['class']"
   ]
  },
  {
   "cell_type": "code",
   "execution_count": 316,
   "id": "fab62132",
   "metadata": {},
   "outputs": [],
   "source": [
    "#soup.select('.title')"
   ]
  },
  {
   "cell_type": "code",
   "execution_count": 257,
   "id": "27a435fe",
   "metadata": {},
   "outputs": [
    {
     "name": "stdout",
     "output_type": "stream",
     "text": [
      "Unholy\n",
      "Eagle (feat. KB)\n",
      "I'm Good (Blue)\n",
      "wait in the truck\n",
      "Everywhere\n",
      "Thank God\n",
      "Make It With You\n",
      "A Thousand Years\n",
      "Son Of A Sinner\n",
      "You Proof\n",
      "I Ain't Worried\n",
      "the mockingbird & THE CROW\n",
      "CUFF IT\n",
      "Unstoppable\n",
      "Left and Right\n",
      "TRUCK BED\n",
      "She Had Me At Heads Carolina\n",
      "here lies country music\n",
      "Wasted On You\n",
      "The Kind of Love We Make\n",
      "Fall In Love\n",
      "Lose Yourself\n",
      "Starved\n",
      "Shallow\n",
      "Under the Influence\n",
      "As It Was\n",
      "Super Freaky Girl\n",
      "1,2,3 Eoi!\n",
      "Life Is a Highway\n",
      "Celestial\n",
      "Love Me Like You Do\n",
      "About Damn Time\n",
      "Hold Me Closer\n",
      "Earned It\n",
      "Shivers\n",
      "Sunroof\n",
      "Victoria’s Secret\n",
      "Everything I Own\n",
      "2 Be Loved (Am I Ready)\n",
      "Baby I'm-A Want You\n",
      "Numb\n",
      "Next Thing You Know\n",
      "Way of the Triune God (Hallelujah Version)\n",
      "High Heels\n",
      "You'll Be In My Heart\n",
      "Gangsta's Paradise (feat. L.V.)\n",
      "I Like You (A Happier Song) [feat. Doja Cat]\n",
      "Rock and a Hard Place\n",
      "Tennessee Orange\n",
      "Neon You\n",
      "Vegas (From the Original Motion Picture Soundtrack ELVIS)\n",
      "Something in the Orange (Z&E's Version)\n",
      "Cold Heart (PNAU Remix)\n",
      "It Will Rain\n",
      "Monster Mash\n",
      "Bones\n",
      "Running Up That Hill (A Deal with God)\n",
      "Bad Habit\n",
      "What My World Spins Around\n",
      "Soul\n",
      "Forever\n",
      "STAR WALKIN' (League of Legends Worlds Anthem)\n",
      "If\n",
      "This Is Halloween\n",
      "How Do I Say Goodbye\n",
      "Always Remember Us This Way\n",
      "Never Leave\n",
      "Forget Me\n",
      "Something in the Orange\n",
      "Somewhere Over the Rainbow\n",
      "No Body\n",
      "Don’t Come Lookin’\n",
      "You, Me, And Whiskey\n",
      "Tennessee Whiskey\n",
      "Havana (feat. Young Thug)\n",
      "Love Me Like I Am\n",
      "down home\n",
      "Hold My Hand\n",
      "'Til You Can't\n",
      "Joy of My Life\n",
      "CUFF IT\n",
      "Late Night Talking\n",
      "Tití Me Preguntó\n",
      "Perfectly Loved (feat. TobyMac)\n",
      "5 Foot 9\n",
      "ILLELLA\n",
      "Build a Boat\n",
      "Take Me Home, Country Roads\n",
      "World's Smallest Violin\n",
      "Sand In My Boots\n",
      "I'm Good (Blue)\n",
      "Fancy Like\n",
      "How Far I'll Go\n",
      "She Likes It (feat. Jake Scott)\n",
      "One Way or Another (Hocus Pocus 2 Version)\n",
      "Havana (Live)\n",
      "Lady Marmalade\n",
      "Narco\n",
      "Half Of Me (feat. Riley Green)\n",
      "Bedroom Singer\n"
     ]
    }
   ],
   "source": [
    "for item in soup.select('.title'):\n",
    "    print(item.get_text())"
   ]
  },
  {
   "cell_type": "code",
   "execution_count": 258,
   "id": "37d61209",
   "metadata": {},
   "outputs": [
    {
     "name": "stdout",
     "output_type": "stream",
     "text": [
      "Sam Smith & Kim Petras\n",
      "Transformation Worship\n",
      "David Guetta & Bebe Rexha\n",
      "HARDY & Lainey Wilson\n",
      "Fleetwood Mac\n",
      "Kane Brown & Katelyn Brown\n",
      "Bread\n",
      "Christina Perri\n",
      "Jelly Roll\n",
      "Morgan Wallen\n",
      "OneRepublic\n",
      "HARDY\n",
      "Beyoncé\n",
      "Sia\n",
      "Charlie Puth & Jung Kook\n",
      "HARDY\n",
      "Cole Swindell\n",
      "HARDY\n",
      "Morgan Wallen\n",
      "Luke Combs\n",
      "Bailey Zimmerman\n",
      "Eminem\n",
      "Zach Bryan\n",
      "Lady Gaga & Bradley Cooper\n",
      "Chris Brown\n",
      "Harry Styles\n",
      "Nicki Minaj\n",
      "MAMAMOO\n",
      "Rascal Flatts\n",
      "Ed Sheeran\n",
      "Ellie Goulding\n",
      "Lizzo\n",
      "Elton John & Britney Spears\n",
      "The Weeknd\n",
      "Ed Sheeran\n",
      "Nicky Youre & Dazy\n",
      "Jax\n",
      "Bread\n",
      "Lizzo\n",
      "Bread\n",
      "Marshmello & Khalid\n",
      "Jordan Davis\n",
      "Tyler Childers\n",
      "Flo Rida & Walker Hayes\n",
      "Phil Collins\n",
      "Coolio\n",
      "Post Malone\n",
      "Bailey Zimmerman\n",
      "Megan Moroney\n",
      "Don Louis\n",
      "Doja Cat\n",
      "Zach Bryan\n",
      "Elton John & Dua Lipa\n",
      "Bruno Mars\n",
      "Bobby \"Boris\" Pickett & The Crypt-Kickers\n",
      "Imagine Dragons\n",
      "Kate Bush\n",
      "Steve Lacy\n",
      "Jordan Davis\n",
      "Lee Brice\n",
      "Drake, Kanye West, Lil Wayne & Eminem\n",
      "Lil Nas X\n",
      "Bread\n",
      "The Citizens of Halloween\n",
      "Dean Lewis\n",
      "Lady Gaga\n",
      "Bailey Zimmerman\n",
      "Lewis Capaldi\n",
      "Zach Bryan\n",
      "Israel Kamakawiwo'ole\n",
      "Blake Shelton\n",
      "Jackson Dean\n",
      "Justin Moore & Priscilla Block\n",
      "Chris Stapleton\n",
      "Camila Cabello\n",
      "for KING & COUNTRY & Jordin Sparks\n",
      "Jimmie Allen\n",
      "Lady Gaga\n",
      "Cody Johnson\n",
      "Chris Stapleton\n",
      "Beyoncé\n",
      "Harry Styles\n",
      "Bad Bunny\n",
      "Rachael Lampa\n",
      "Tyler Hubbard\n",
      "MAMAMOO\n",
      "Colton Dixon\n",
      "John Denver\n",
      "AJR\n",
      "Morgan Wallen\n",
      "David Guetta & Bebe Rexha\n",
      "Walker Hayes\n",
      "Auli'i Cravalho\n",
      "Russell Dickerson & Jake Scott\n",
      "Bette Midler, Sarah Jessica Parker & Kathy Najimy\n",
      "Camila Cabello\n",
      "Christina Aguilera, Lil' Kim, Mýa & P!nk\n",
      "Blasterjaxx & Timmy Trumpet\n",
      "Thomas Rhett\n",
      "J.Fla\n"
     ]
    }
   ],
   "source": [
    "for item in soup.select('.artist'):\n",
    "    print(item.get_text())"
   ]
  },
  {
   "cell_type": "markdown",
   "id": "5323cc03",
   "metadata": {},
   "source": [
    "Creating DataFrame"
   ]
  },
  {
   "cell_type": "code",
   "execution_count": 259,
   "id": "46335ff2",
   "metadata": {},
   "outputs": [],
   "source": [
    "title = []\n",
    "artist = []\n",
    "\n",
    "\n",
    "    \n",
    "tlist = soup.select('.title')\n",
    "alist = soup.select('.artist')\n",
    "\n",
    "\n",
    "num_iter = len(soup.select(\".title\"))\n",
    "\n",
    "for i in range(num_iter):\n",
    "    title.append(tlist[i].get_text())\n",
    "    artist.append(alist[i].get_text())    \n",
    "    "
   ]
  },
  {
   "cell_type": "code",
   "execution_count": 260,
   "id": "32246289",
   "metadata": {},
   "outputs": [
    {
     "data": {
      "text/plain": [
       "['Unholy',\n",
       " 'Eagle (feat. KB)',\n",
       " \"I'm Good (Blue)\",\n",
       " 'wait in the truck',\n",
       " 'Everywhere',\n",
       " 'Thank God',\n",
       " 'Make It With You',\n",
       " 'A Thousand Years',\n",
       " 'Son Of A Sinner',\n",
       " 'You Proof',\n",
       " \"I Ain't Worried\",\n",
       " 'the mockingbird & THE CROW',\n",
       " 'CUFF IT',\n",
       " 'Unstoppable',\n",
       " 'Left and Right',\n",
       " 'TRUCK BED',\n",
       " 'She Had Me At Heads Carolina',\n",
       " 'here lies country music',\n",
       " 'Wasted On You',\n",
       " 'The Kind of Love We Make',\n",
       " 'Fall In Love',\n",
       " 'Lose Yourself',\n",
       " 'Starved',\n",
       " 'Shallow',\n",
       " 'Under the Influence',\n",
       " 'As It Was',\n",
       " 'Super Freaky Girl',\n",
       " '1,2,3 Eoi!',\n",
       " 'Life Is a Highway',\n",
       " 'Celestial',\n",
       " 'Love Me Like You Do',\n",
       " 'About Damn Time',\n",
       " 'Hold Me Closer',\n",
       " 'Earned It',\n",
       " 'Shivers',\n",
       " 'Sunroof',\n",
       " 'Victoria’s Secret',\n",
       " 'Everything I Own',\n",
       " '2 Be Loved (Am I Ready)',\n",
       " \"Baby I'm-A Want You\",\n",
       " 'Numb',\n",
       " 'Next Thing You Know',\n",
       " 'Way of the Triune God (Hallelujah Version)',\n",
       " 'High Heels',\n",
       " \"You'll Be In My Heart\",\n",
       " \"Gangsta's Paradise (feat. L.V.)\",\n",
       " 'I Like You (A Happier Song) [feat. Doja Cat]',\n",
       " 'Rock and a Hard Place',\n",
       " 'Tennessee Orange',\n",
       " 'Neon You',\n",
       " 'Vegas (From the Original Motion Picture Soundtrack ELVIS)',\n",
       " \"Something in the Orange (Z&E's Version)\",\n",
       " 'Cold Heart (PNAU Remix)',\n",
       " 'It Will Rain',\n",
       " 'Monster Mash',\n",
       " 'Bones',\n",
       " 'Running Up That Hill (A Deal with God)',\n",
       " 'Bad Habit',\n",
       " 'What My World Spins Around',\n",
       " 'Soul',\n",
       " 'Forever',\n",
       " \"STAR WALKIN' (League of Legends Worlds Anthem)\",\n",
       " 'If',\n",
       " 'This Is Halloween',\n",
       " 'How Do I Say Goodbye',\n",
       " 'Always Remember Us This Way',\n",
       " 'Never Leave',\n",
       " 'Forget Me',\n",
       " 'Something in the Orange',\n",
       " 'Somewhere Over the Rainbow',\n",
       " 'No Body',\n",
       " 'Don’t Come Lookin’',\n",
       " 'You, Me, And Whiskey',\n",
       " 'Tennessee Whiskey',\n",
       " 'Havana (feat. Young Thug)',\n",
       " 'Love Me Like I Am',\n",
       " 'down home',\n",
       " 'Hold My Hand',\n",
       " \"'Til You Can't\",\n",
       " 'Joy of My Life',\n",
       " 'CUFF IT',\n",
       " 'Late Night Talking',\n",
       " 'Tití Me Preguntó',\n",
       " 'Perfectly Loved (feat. TobyMac)',\n",
       " '5 Foot 9',\n",
       " 'ILLELLA',\n",
       " 'Build a Boat',\n",
       " 'Take Me Home, Country Roads',\n",
       " \"World's Smallest Violin\",\n",
       " 'Sand In My Boots',\n",
       " \"I'm Good (Blue)\",\n",
       " 'Fancy Like',\n",
       " \"How Far I'll Go\",\n",
       " 'She Likes It (feat. Jake Scott)',\n",
       " 'One Way or Another (Hocus Pocus 2 Version)',\n",
       " 'Havana (Live)',\n",
       " 'Lady Marmalade',\n",
       " 'Narco',\n",
       " 'Half Of Me (feat. Riley Green)',\n",
       " 'Bedroom Singer']"
      ]
     },
     "execution_count": 260,
     "metadata": {},
     "output_type": "execute_result"
    }
   ],
   "source": [
    "title"
   ]
  },
  {
   "cell_type": "code",
   "execution_count": 261,
   "id": "9d8ee57f",
   "metadata": {},
   "outputs": [],
   "source": [
    "song_df = pd.DataFrame({'song':title, 'artist':artist})"
   ]
  },
  {
   "cell_type": "code",
   "execution_count": 262,
   "id": "c7d5b541",
   "metadata": {},
   "outputs": [
    {
     "data": {
      "text/html": [
       "<div>\n",
       "<style scoped>\n",
       "    .dataframe tbody tr th:only-of-type {\n",
       "        vertical-align: middle;\n",
       "    }\n",
       "\n",
       "    .dataframe tbody tr th {\n",
       "        vertical-align: top;\n",
       "    }\n",
       "\n",
       "    .dataframe thead th {\n",
       "        text-align: right;\n",
       "    }\n",
       "</style>\n",
       "<table border=\"1\" class=\"dataframe\">\n",
       "  <thead>\n",
       "    <tr style=\"text-align: right;\">\n",
       "      <th></th>\n",
       "      <th>song</th>\n",
       "      <th>artist</th>\n",
       "    </tr>\n",
       "  </thead>\n",
       "  <tbody>\n",
       "    <tr>\n",
       "      <th>0</th>\n",
       "      <td>Unholy</td>\n",
       "      <td>Sam Smith &amp; Kim Petras</td>\n",
       "    </tr>\n",
       "    <tr>\n",
       "      <th>1</th>\n",
       "      <td>Eagle (feat. KB)</td>\n",
       "      <td>Transformation Worship</td>\n",
       "    </tr>\n",
       "    <tr>\n",
       "      <th>2</th>\n",
       "      <td>I'm Good (Blue)</td>\n",
       "      <td>David Guetta &amp; Bebe Rexha</td>\n",
       "    </tr>\n",
       "    <tr>\n",
       "      <th>3</th>\n",
       "      <td>wait in the truck</td>\n",
       "      <td>HARDY &amp; Lainey Wilson</td>\n",
       "    </tr>\n",
       "    <tr>\n",
       "      <th>4</th>\n",
       "      <td>Everywhere</td>\n",
       "      <td>Fleetwood Mac</td>\n",
       "    </tr>\n",
       "    <tr>\n",
       "      <th>...</th>\n",
       "      <td>...</td>\n",
       "      <td>...</td>\n",
       "    </tr>\n",
       "    <tr>\n",
       "      <th>95</th>\n",
       "      <td>Havana (Live)</td>\n",
       "      <td>Camila Cabello</td>\n",
       "    </tr>\n",
       "    <tr>\n",
       "      <th>96</th>\n",
       "      <td>Lady Marmalade</td>\n",
       "      <td>Christina Aguilera, Lil' Kim, Mýa &amp; P!nk</td>\n",
       "    </tr>\n",
       "    <tr>\n",
       "      <th>97</th>\n",
       "      <td>Narco</td>\n",
       "      <td>Blasterjaxx &amp; Timmy Trumpet</td>\n",
       "    </tr>\n",
       "    <tr>\n",
       "      <th>98</th>\n",
       "      <td>Half Of Me (feat. Riley Green)</td>\n",
       "      <td>Thomas Rhett</td>\n",
       "    </tr>\n",
       "    <tr>\n",
       "      <th>99</th>\n",
       "      <td>Bedroom Singer</td>\n",
       "      <td>J.Fla</td>\n",
       "    </tr>\n",
       "  </tbody>\n",
       "</table>\n",
       "<p>100 rows × 2 columns</p>\n",
       "</div>"
      ],
      "text/plain": [
       "                              song                                    artist\n",
       "0                           Unholy                    Sam Smith & Kim Petras\n",
       "1                 Eagle (feat. KB)                    Transformation Worship\n",
       "2                  I'm Good (Blue)                 David Guetta & Bebe Rexha\n",
       "3                wait in the truck                     HARDY & Lainey Wilson\n",
       "4                       Everywhere                             Fleetwood Mac\n",
       "..                             ...                                       ...\n",
       "95                   Havana (Live)                            Camila Cabello\n",
       "96                  Lady Marmalade  Christina Aguilera, Lil' Kim, Mýa & P!nk\n",
       "97                           Narco               Blasterjaxx & Timmy Trumpet\n",
       "98  Half Of Me (feat. Riley Green)                              Thomas Rhett\n",
       "99                  Bedroom Singer                                     J.Fla\n",
       "\n",
       "[100 rows x 2 columns]"
      ]
     },
     "execution_count": 262,
     "metadata": {},
     "output_type": "execute_result"
    }
   ],
   "source": [
    "song_df"
   ]
  },
  {
   "cell_type": "markdown",
   "id": "05f79307",
   "metadata": {},
   "source": []
  },
  {
   "cell_type": "code",
   "execution_count": null,
   "id": "d4c9a169",
   "metadata": {},
   "outputs": [],
   "source": []
  },
  {
   "cell_type": "code",
   "execution_count": null,
   "id": "cb7db3e5",
   "metadata": {},
   "outputs": [],
   "source": []
  },
  {
   "cell_type": "code",
   "execution_count": null,
   "id": "c5a44e3b",
   "metadata": {},
   "outputs": [],
   "source": [
    "\n",
    "                  \n",
    "               "
   ]
  },
  {
   "cell_type": "code",
   "execution_count": null,
   "id": "7a57307a",
   "metadata": {},
   "outputs": [],
   "source": []
  },
  {
   "cell_type": "code",
   "execution_count": null,
   "id": "2be51182",
   "metadata": {},
   "outputs": [],
   "source": []
  },
  {
   "cell_type": "markdown",
   "id": "b2b56dd8",
   "metadata": {},
   "source": [
    "Adding top songs from 1989"
   ]
  },
  {
   "cell_type": "code",
   "execution_count": 263,
   "id": "e7d01549",
   "metadata": {},
   "outputs": [],
   "source": [
    "url2 = \"https://digitaldreamdoor.com/pages/bg_hits/bg_hits_89.html\""
   ]
  },
  {
   "cell_type": "code",
   "execution_count": 264,
   "id": "2507349a",
   "metadata": {},
   "outputs": [
    {
     "data": {
      "text/plain": [
       "200"
      ]
     },
     "execution_count": 264,
     "metadata": {},
     "output_type": "execute_result"
    }
   ],
   "source": [
    "response2 = requests.get(url2)\n",
    "response2.status_code"
   ]
  },
  {
   "cell_type": "code",
   "execution_count": 265,
   "id": "7495262c",
   "metadata": {},
   "outputs": [],
   "source": [
    "soup2 = BeautifulSoup(response2.content, \"html.parser\")"
   ]
  },
  {
   "cell_type": "code",
   "execution_count": 266,
   "id": "0b61a6a7",
   "metadata": {},
   "outputs": [
    {
     "data": {
      "text/plain": [
       "[<tr>\n",
       " <td class=\"s1\">1</td>\n",
       " <td class=\"s2\">Fight The Power\n",
       " </td><td class=\"s3\">Public Enemy\n",
       " </td></tr>]"
      ]
     },
     "execution_count": 266,
     "metadata": {},
     "output_type": "execute_result"
    }
   ],
   "source": [
    "soup2.select('body > table > tbody > tr:nth-child(2) > td > table > tbody > tr:nth-child(4) > td > table > tbody > tr:nth-child(2)')"
   ]
  },
  {
   "cell_type": "code",
   "execution_count": 267,
   "id": "1adbeb78",
   "metadata": {},
   "outputs": [],
   "source": [
    "title2 = []\n",
    "artist2 = []\n",
    "\n",
    "\n",
    "    \n",
    "tlist2 = soup2.select('.s2')\n",
    "alist2 = soup2.select('.s3')\n",
    "\n",
    "\n",
    "num_iter2 = len(soup2.select(\".s2\"))\n",
    "\n",
    "for i in range(num_iter):\n",
    "    title2.append(tlist2[i].get_text())\n",
    "    artist2.append(alist2[i].get_text()) "
   ]
  },
  {
   "cell_type": "code",
   "execution_count": 268,
   "id": "e511307d",
   "metadata": {},
   "outputs": [
    {
     "data": {
      "text/html": [
       "<div>\n",
       "<style scoped>\n",
       "    .dataframe tbody tr th:only-of-type {\n",
       "        vertical-align: middle;\n",
       "    }\n",
       "\n",
       "    .dataframe tbody tr th {\n",
       "        vertical-align: top;\n",
       "    }\n",
       "\n",
       "    .dataframe thead th {\n",
       "        text-align: right;\n",
       "    }\n",
       "</style>\n",
       "<table border=\"1\" class=\"dataframe\">\n",
       "  <thead>\n",
       "    <tr style=\"text-align: right;\">\n",
       "      <th></th>\n",
       "      <th>song</th>\n",
       "      <th>artist</th>\n",
       "    </tr>\n",
       "  </thead>\n",
       "  <tbody>\n",
       "    <tr>\n",
       "      <th>0</th>\n",
       "      <td>Fight The Power\\n</td>\n",
       "      <td>Public Enemy\\n</td>\n",
       "    </tr>\n",
       "    <tr>\n",
       "      <th>1</th>\n",
       "      <td>Like a Prayer\\n</td>\n",
       "      <td>Madonna\\n</td>\n",
       "    </tr>\n",
       "    <tr>\n",
       "      <th>2</th>\n",
       "      <td>Free Fallin'\\n</td>\n",
       "      <td>Tom Petty\\n</td>\n",
       "    </tr>\n",
       "    <tr>\n",
       "      <th>3</th>\n",
       "      <td>The Humpty Dance\\n</td>\n",
       "      <td>Digital Underground\\n</td>\n",
       "    </tr>\n",
       "    <tr>\n",
       "      <th>4</th>\n",
       "      <td>Pump Up The Jam\\n</td>\n",
       "      <td>Technotronic (feat. Felly)\\n</td>\n",
       "    </tr>\n",
       "    <tr>\n",
       "      <th>...</th>\n",
       "      <td>...</td>\n",
       "      <td>...</td>\n",
       "    </tr>\n",
       "    <tr>\n",
       "      <th>95</th>\n",
       "      <td>Falling\\n</td>\n",
       "      <td>Julee Cruise\\n</td>\n",
       "    </tr>\n",
       "    <tr>\n",
       "      <th>96</th>\n",
       "      <td>I Get the Job Done\\n</td>\n",
       "      <td>Big Daddy Kane\\n</td>\n",
       "    </tr>\n",
       "    <tr>\n",
       "      <th>97</th>\n",
       "      <td>When I See You Smile\\n</td>\n",
       "      <td>Bad English\\n</td>\n",
       "    </tr>\n",
       "    <tr>\n",
       "      <th>98</th>\n",
       "      <td>Forever\\n</td>\n",
       "      <td>KISS\\n</td>\n",
       "    </tr>\n",
       "    <tr>\n",
       "      <th>99</th>\n",
       "      <td>Get Up! (Before the Night Is Over)\\n</td>\n",
       "      <td>Technotronic (feat. Ya Kid K)\\n</td>\n",
       "    </tr>\n",
       "  </tbody>\n",
       "</table>\n",
       "<p>100 rows × 2 columns</p>\n",
       "</div>"
      ],
      "text/plain": [
       "                                    song                           artist\n",
       "0                      Fight The Power\\n                   Public Enemy\\n\n",
       "1                        Like a Prayer\\n                        Madonna\\n\n",
       "2                         Free Fallin'\\n                      Tom Petty\\n\n",
       "3                     The Humpty Dance\\n            Digital Underground\\n\n",
       "4                      Pump Up The Jam\\n     Technotronic (feat. Felly)\\n\n",
       "..                                   ...                              ...\n",
       "95                             Falling\\n                   Julee Cruise\\n\n",
       "96                  I Get the Job Done\\n                 Big Daddy Kane\\n\n",
       "97                When I See You Smile\\n                    Bad English\\n\n",
       "98                             Forever\\n                           KISS\\n\n",
       "99  Get Up! (Before the Night Is Over)\\n  Technotronic (feat. Ya Kid K)\\n\n",
       "\n",
       "[100 rows x 2 columns]"
      ]
     },
     "execution_count": 268,
     "metadata": {},
     "output_type": "execute_result"
    }
   ],
   "source": [
    "more_songs = pd.DataFrame({'song':title2, 'artist':artist2})\n",
    "more_songs"
   ]
  },
  {
   "cell_type": "markdown",
   "id": "254c2705",
   "metadata": {},
   "source": [
    "Cleaning the \\n from my Dataframe"
   ]
  },
  {
   "cell_type": "code",
   "execution_count": 269,
   "id": "5ead8e3e",
   "metadata": {},
   "outputs": [
    {
     "data": {
      "text/plain": [
       "0                        Fight The Power\n",
       "1                          Like a Prayer\n",
       "2                           Free Fallin'\n",
       "3                       The Humpty Dance\n",
       "4                        Pump Up The Jam\n",
       "                     ...                \n",
       "95                               Falling\n",
       "96                    I Get the Job Done\n",
       "97                  When I See You Smile\n",
       "98                               Forever\n",
       "99    Get Up! (Before the Night Is Over)\n",
       "Name: song, Length: 100, dtype: object"
      ]
     },
     "execution_count": 269,
     "metadata": {},
     "output_type": "execute_result"
    }
   ],
   "source": [
    "song_lst = []\n",
    "for i in more_songs['song']:\n",
    "    if '\\n' in i:\n",
    "        i = i.split('\\n')[0]\n",
    "        song_lst.append(i)\n",
    "        \n",
    "more_songs['song'] = song_lst        \n",
    "more_songs['song']"
   ]
  },
  {
   "cell_type": "code",
   "execution_count": 270,
   "id": "bab0c98f",
   "metadata": {},
   "outputs": [
    {
     "data": {
      "text/plain": [
       "0                      Public Enemy\n",
       "1                           Madonna\n",
       "2                         Tom Petty\n",
       "3               Digital Underground\n",
       "4        Technotronic (feat. Felly)\n",
       "                  ...              \n",
       "95                     Julee Cruise\n",
       "96                   Big Daddy Kane\n",
       "97                      Bad English\n",
       "98                             KISS\n",
       "99    Technotronic (feat. Ya Kid K)\n",
       "Name: artist, Length: 100, dtype: object"
      ]
     },
     "execution_count": 270,
     "metadata": {},
     "output_type": "execute_result"
    }
   ],
   "source": [
    "art_lst = []\n",
    "for i in more_songs['artist']:\n",
    "    if '\\n' in i:\n",
    "        i = i.split('\\n')[0]\n",
    "        art_lst.append(i)\n",
    "        \n",
    "more_songs['artist'] = art_lst        \n",
    "more_songs['artist']"
   ]
  },
  {
   "cell_type": "code",
   "execution_count": 271,
   "id": "5c43834c",
   "metadata": {},
   "outputs": [
    {
     "data": {
      "text/html": [
       "<div>\n",
       "<style scoped>\n",
       "    .dataframe tbody tr th:only-of-type {\n",
       "        vertical-align: middle;\n",
       "    }\n",
       "\n",
       "    .dataframe tbody tr th {\n",
       "        vertical-align: top;\n",
       "    }\n",
       "\n",
       "    .dataframe thead th {\n",
       "        text-align: right;\n",
       "    }\n",
       "</style>\n",
       "<table border=\"1\" class=\"dataframe\">\n",
       "  <thead>\n",
       "    <tr style=\"text-align: right;\">\n",
       "      <th></th>\n",
       "      <th>song</th>\n",
       "      <th>artist</th>\n",
       "    </tr>\n",
       "  </thead>\n",
       "  <tbody>\n",
       "    <tr>\n",
       "      <th>0</th>\n",
       "      <td>Fight The Power</td>\n",
       "      <td>Public Enemy</td>\n",
       "    </tr>\n",
       "    <tr>\n",
       "      <th>1</th>\n",
       "      <td>Like a Prayer</td>\n",
       "      <td>Madonna</td>\n",
       "    </tr>\n",
       "    <tr>\n",
       "      <th>2</th>\n",
       "      <td>Free Fallin'</td>\n",
       "      <td>Tom Petty</td>\n",
       "    </tr>\n",
       "    <tr>\n",
       "      <th>3</th>\n",
       "      <td>The Humpty Dance</td>\n",
       "      <td>Digital Underground</td>\n",
       "    </tr>\n",
       "    <tr>\n",
       "      <th>4</th>\n",
       "      <td>Pump Up The Jam</td>\n",
       "      <td>Technotronic (feat. Felly)</td>\n",
       "    </tr>\n",
       "    <tr>\n",
       "      <th>...</th>\n",
       "      <td>...</td>\n",
       "      <td>...</td>\n",
       "    </tr>\n",
       "    <tr>\n",
       "      <th>95</th>\n",
       "      <td>Falling</td>\n",
       "      <td>Julee Cruise</td>\n",
       "    </tr>\n",
       "    <tr>\n",
       "      <th>96</th>\n",
       "      <td>I Get the Job Done</td>\n",
       "      <td>Big Daddy Kane</td>\n",
       "    </tr>\n",
       "    <tr>\n",
       "      <th>97</th>\n",
       "      <td>When I See You Smile</td>\n",
       "      <td>Bad English</td>\n",
       "    </tr>\n",
       "    <tr>\n",
       "      <th>98</th>\n",
       "      <td>Forever</td>\n",
       "      <td>KISS</td>\n",
       "    </tr>\n",
       "    <tr>\n",
       "      <th>99</th>\n",
       "      <td>Get Up! (Before the Night Is Over)</td>\n",
       "      <td>Technotronic (feat. Ya Kid K)</td>\n",
       "    </tr>\n",
       "  </tbody>\n",
       "</table>\n",
       "<p>100 rows × 2 columns</p>\n",
       "</div>"
      ],
      "text/plain": [
       "                                  song                         artist\n",
       "0                      Fight The Power                   Public Enemy\n",
       "1                        Like a Prayer                        Madonna\n",
       "2                         Free Fallin'                      Tom Petty\n",
       "3                     The Humpty Dance            Digital Underground\n",
       "4                      Pump Up The Jam     Technotronic (feat. Felly)\n",
       "..                                 ...                            ...\n",
       "95                             Falling                   Julee Cruise\n",
       "96                  I Get the Job Done                 Big Daddy Kane\n",
       "97                When I See You Smile                    Bad English\n",
       "98                             Forever                           KISS\n",
       "99  Get Up! (Before the Night Is Over)  Technotronic (feat. Ya Kid K)\n",
       "\n",
       "[100 rows x 2 columns]"
      ]
     },
     "execution_count": 271,
     "metadata": {},
     "output_type": "execute_result"
    }
   ],
   "source": [
    "more_songs"
   ]
  },
  {
   "cell_type": "markdown",
   "id": "a76991fd",
   "metadata": {},
   "source": [
    "Concat both Dataframes"
   ]
  },
  {
   "cell_type": "code",
   "execution_count": 272,
   "id": "be95b2c3",
   "metadata": {},
   "outputs": [],
   "source": [
    "song_df = pd.concat([song_df, more_songs], axis=0).reset_index()"
   ]
  },
  {
   "cell_type": "code",
   "execution_count": 273,
   "id": "a2ba30d6",
   "metadata": {},
   "outputs": [
    {
     "data": {
      "text/html": [
       "<div>\n",
       "<style scoped>\n",
       "    .dataframe tbody tr th:only-of-type {\n",
       "        vertical-align: middle;\n",
       "    }\n",
       "\n",
       "    .dataframe tbody tr th {\n",
       "        vertical-align: top;\n",
       "    }\n",
       "\n",
       "    .dataframe thead th {\n",
       "        text-align: right;\n",
       "    }\n",
       "</style>\n",
       "<table border=\"1\" class=\"dataframe\">\n",
       "  <thead>\n",
       "    <tr style=\"text-align: right;\">\n",
       "      <th></th>\n",
       "      <th>index</th>\n",
       "      <th>song</th>\n",
       "      <th>artist</th>\n",
       "    </tr>\n",
       "  </thead>\n",
       "  <tbody>\n",
       "    <tr>\n",
       "      <th>0</th>\n",
       "      <td>0</td>\n",
       "      <td>Unholy</td>\n",
       "      <td>Sam Smith &amp; Kim Petras</td>\n",
       "    </tr>\n",
       "    <tr>\n",
       "      <th>1</th>\n",
       "      <td>1</td>\n",
       "      <td>Eagle (feat. KB)</td>\n",
       "      <td>Transformation Worship</td>\n",
       "    </tr>\n",
       "    <tr>\n",
       "      <th>2</th>\n",
       "      <td>2</td>\n",
       "      <td>I'm Good (Blue)</td>\n",
       "      <td>David Guetta &amp; Bebe Rexha</td>\n",
       "    </tr>\n",
       "    <tr>\n",
       "      <th>3</th>\n",
       "      <td>3</td>\n",
       "      <td>wait in the truck</td>\n",
       "      <td>HARDY &amp; Lainey Wilson</td>\n",
       "    </tr>\n",
       "    <tr>\n",
       "      <th>4</th>\n",
       "      <td>4</td>\n",
       "      <td>Everywhere</td>\n",
       "      <td>Fleetwood Mac</td>\n",
       "    </tr>\n",
       "    <tr>\n",
       "      <th>...</th>\n",
       "      <td>...</td>\n",
       "      <td>...</td>\n",
       "      <td>...</td>\n",
       "    </tr>\n",
       "    <tr>\n",
       "      <th>195</th>\n",
       "      <td>95</td>\n",
       "      <td>Falling</td>\n",
       "      <td>Julee Cruise</td>\n",
       "    </tr>\n",
       "    <tr>\n",
       "      <th>196</th>\n",
       "      <td>96</td>\n",
       "      <td>I Get the Job Done</td>\n",
       "      <td>Big Daddy Kane</td>\n",
       "    </tr>\n",
       "    <tr>\n",
       "      <th>197</th>\n",
       "      <td>97</td>\n",
       "      <td>When I See You Smile</td>\n",
       "      <td>Bad English</td>\n",
       "    </tr>\n",
       "    <tr>\n",
       "      <th>198</th>\n",
       "      <td>98</td>\n",
       "      <td>Forever</td>\n",
       "      <td>KISS</td>\n",
       "    </tr>\n",
       "    <tr>\n",
       "      <th>199</th>\n",
       "      <td>99</td>\n",
       "      <td>Get Up! (Before the Night Is Over)</td>\n",
       "      <td>Technotronic (feat. Ya Kid K)</td>\n",
       "    </tr>\n",
       "  </tbody>\n",
       "</table>\n",
       "<p>200 rows × 3 columns</p>\n",
       "</div>"
      ],
      "text/plain": [
       "     index                                song                         artist\n",
       "0        0                              Unholy         Sam Smith & Kim Petras\n",
       "1        1                    Eagle (feat. KB)         Transformation Worship\n",
       "2        2                     I'm Good (Blue)      David Guetta & Bebe Rexha\n",
       "3        3                   wait in the truck          HARDY & Lainey Wilson\n",
       "4        4                          Everywhere                  Fleetwood Mac\n",
       "..     ...                                 ...                            ...\n",
       "195     95                             Falling                   Julee Cruise\n",
       "196     96                  I Get the Job Done                 Big Daddy Kane\n",
       "197     97                When I See You Smile                    Bad English\n",
       "198     98                             Forever                           KISS\n",
       "199     99  Get Up! (Before the Night Is Over)  Technotronic (feat. Ya Kid K)\n",
       "\n",
       "[200 rows x 3 columns]"
      ]
     },
     "execution_count": 273,
     "metadata": {},
     "output_type": "execute_result"
    }
   ],
   "source": [
    "song_df"
   ]
  },
  {
   "cell_type": "code",
   "execution_count": 274,
   "id": "d670b707",
   "metadata": {},
   "outputs": [
    {
     "data": {
      "text/html": [
       "<div>\n",
       "<style scoped>\n",
       "    .dataframe tbody tr th:only-of-type {\n",
       "        vertical-align: middle;\n",
       "    }\n",
       "\n",
       "    .dataframe tbody tr th {\n",
       "        vertical-align: top;\n",
       "    }\n",
       "\n",
       "    .dataframe thead th {\n",
       "        text-align: right;\n",
       "    }\n",
       "</style>\n",
       "<table border=\"1\" class=\"dataframe\">\n",
       "  <thead>\n",
       "    <tr style=\"text-align: right;\">\n",
       "      <th></th>\n",
       "      <th>song</th>\n",
       "      <th>artist</th>\n",
       "    </tr>\n",
       "  </thead>\n",
       "  <tbody>\n",
       "    <tr>\n",
       "      <th>0</th>\n",
       "      <td>Unholy</td>\n",
       "      <td>Sam Smith &amp; Kim Petras</td>\n",
       "    </tr>\n",
       "    <tr>\n",
       "      <th>1</th>\n",
       "      <td>Eagle (feat. KB)</td>\n",
       "      <td>Transformation Worship</td>\n",
       "    </tr>\n",
       "    <tr>\n",
       "      <th>2</th>\n",
       "      <td>I'm Good (Blue)</td>\n",
       "      <td>David Guetta &amp; Bebe Rexha</td>\n",
       "    </tr>\n",
       "    <tr>\n",
       "      <th>3</th>\n",
       "      <td>wait in the truck</td>\n",
       "      <td>HARDY &amp; Lainey Wilson</td>\n",
       "    </tr>\n",
       "    <tr>\n",
       "      <th>4</th>\n",
       "      <td>Everywhere</td>\n",
       "      <td>Fleetwood Mac</td>\n",
       "    </tr>\n",
       "    <tr>\n",
       "      <th>...</th>\n",
       "      <td>...</td>\n",
       "      <td>...</td>\n",
       "    </tr>\n",
       "    <tr>\n",
       "      <th>195</th>\n",
       "      <td>Falling</td>\n",
       "      <td>Julee Cruise</td>\n",
       "    </tr>\n",
       "    <tr>\n",
       "      <th>196</th>\n",
       "      <td>I Get the Job Done</td>\n",
       "      <td>Big Daddy Kane</td>\n",
       "    </tr>\n",
       "    <tr>\n",
       "      <th>197</th>\n",
       "      <td>When I See You Smile</td>\n",
       "      <td>Bad English</td>\n",
       "    </tr>\n",
       "    <tr>\n",
       "      <th>198</th>\n",
       "      <td>Forever</td>\n",
       "      <td>KISS</td>\n",
       "    </tr>\n",
       "    <tr>\n",
       "      <th>199</th>\n",
       "      <td>Get Up! (Before the Night Is Over)</td>\n",
       "      <td>Technotronic (feat. Ya Kid K)</td>\n",
       "    </tr>\n",
       "  </tbody>\n",
       "</table>\n",
       "<p>200 rows × 2 columns</p>\n",
       "</div>"
      ],
      "text/plain": [
       "                                   song                         artist\n",
       "0                                Unholy         Sam Smith & Kim Petras\n",
       "1                      Eagle (feat. KB)         Transformation Worship\n",
       "2                       I'm Good (Blue)      David Guetta & Bebe Rexha\n",
       "3                     wait in the truck          HARDY & Lainey Wilson\n",
       "4                            Everywhere                  Fleetwood Mac\n",
       "..                                  ...                            ...\n",
       "195                             Falling                   Julee Cruise\n",
       "196                  I Get the Job Done                 Big Daddy Kane\n",
       "197                When I See You Smile                    Bad English\n",
       "198                             Forever                           KISS\n",
       "199  Get Up! (Before the Night Is Over)  Technotronic (feat. Ya Kid K)\n",
       "\n",
       "[200 rows x 2 columns]"
      ]
     },
     "execution_count": 274,
     "metadata": {},
     "output_type": "execute_result"
    }
   ],
   "source": [
    "song_df = song_df.drop(['index'], axis=1)\n",
    "song_df"
   ]
  },
  {
   "cell_type": "markdown",
   "id": "a3b6b825",
   "metadata": {},
   "source": [
    "Creating the song recommender"
   ]
  },
  {
   "cell_type": "code",
   "execution_count": 275,
   "id": "d3da5e11",
   "metadata": {},
   "outputs": [],
   "source": [
    "import random"
   ]
  },
  {
   "cell_type": "code",
   "execution_count": 317,
   "id": "5b38e991",
   "metadata": {},
   "outputs": [],
   "source": [
    "def recommender():    \n",
    "    random_song = random.choice(song_df['song'])\n",
    "    user_input = input(\"What is your favourite song?: \")\n",
    "    if user_input.lower() == random_song.lower():\n",
    "        random_song = random.choice(song_df['song']) \n",
    "    if user_input.lower() in song_df['song'].str.lower().values:\n",
    "        print(\"We recommend the following song: \", random_song)\n",
    "        again = input(\"Do you want to enter another song? y/n \")\n",
    "        if again.lower() == 'y':\n",
    "            recommender()\n",
    "        else:\n",
    "            print('Thank you for using our song recommender!')    \n",
    "    else:\n",
    "        print(\"We are sorry but we have no songs to recommend\")\n",
    "        again = input(\"Do you want to enter another song? y/n \")\n",
    "        if again.lower() == 'y':\n",
    "            recommender()\n",
    "        else:\n",
    "            print('Thank you for using our song recommender!')"
   ]
  },
  {
   "cell_type": "code",
   "execution_count": 318,
   "id": "199a3b73",
   "metadata": {},
   "outputs": [
    {
     "name": "stdout",
     "output_type": "stream",
     "text": [
      "What is your favourite song?: Unholy\n",
      "We recommend the following song:  wait in the truck\n",
      "Do you want to enter another song? y/n y\n",
      "What is your favourite song?: forever\n",
      "We recommend the following song:  Love Will Lead You Back\n",
      "Do you want to enter another song? y/n n\n",
      "Thank you for using our song recommender!\n"
     ]
    }
   ],
   "source": [
    "recommender()"
   ]
  },
  {
   "cell_type": "code",
   "execution_count": null,
   "id": "6053f18e",
   "metadata": {},
   "outputs": [],
   "source": []
  },
  {
   "cell_type": "code",
   "execution_count": 301,
   "id": "1edc758f",
   "metadata": {},
   "outputs": [],
   "source": []
  },
  {
   "cell_type": "code",
   "execution_count": null,
   "id": "06cf371d",
   "metadata": {},
   "outputs": [],
   "source": []
  },
  {
   "cell_type": "code",
   "execution_count": null,
   "id": "7ab218b6",
   "metadata": {},
   "outputs": [],
   "source": []
  }
 ],
 "metadata": {
  "kernelspec": {
   "display_name": "Python 3 (ipykernel)",
   "language": "python",
   "name": "python3"
  },
  "language_info": {
   "codemirror_mode": {
    "name": "ipython",
    "version": 3
   },
   "file_extension": ".py",
   "mimetype": "text/x-python",
   "name": "python",
   "nbconvert_exporter": "python",
   "pygments_lexer": "ipython3",
   "version": "3.9.12"
  },
  "toc": {
   "base_numbering": 1,
   "nav_menu": {},
   "number_sections": true,
   "sideBar": true,
   "skip_h1_title": false,
   "title_cell": "Table of Contents",
   "title_sidebar": "Contents",
   "toc_cell": false,
   "toc_position": {},
   "toc_section_display": true,
   "toc_window_display": false
  }
 },
 "nbformat": 4,
 "nbformat_minor": 5
}
